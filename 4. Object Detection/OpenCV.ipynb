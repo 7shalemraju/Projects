{
 "cells": [
  {
   "cell_type": "markdown",
   "id": "92a9fd98",
   "metadata": {},
   "source": [
    "# OpenCV"
   ]
  },
  {
   "cell_type": "markdown",
   "id": "7ea6a0f2",
   "metadata": {},
   "source": [
    "### OpenCV Installation\n",
    "Anacona promt-pip install opencv-python"
   ]
  },
  {
   "cell_type": "code",
   "execution_count": 1,
   "id": "b8cbc14a",
   "metadata": {},
   "outputs": [],
   "source": [
    "import cv2 \n",
    "import numpy as np"
   ]
  },
  {
   "cell_type": "markdown",
   "id": "95c9571e",
   "metadata": {},
   "source": [
    "#### Load/Read Images"
   ]
  },
  {
   "cell_type": "code",
   "execution_count": 3,
   "id": "9193d18d",
   "metadata": {},
   "outputs": [],
   "source": [
    "img=cv2.imread(\"F:/Naresh IT/DataScience Naresh I Technologies/DataScience/5. Artificial Intelligence or Deep Learning/Computer Vision/ImageforopenCV/shalem.jpg\",1)"
   ]
  },
  {
   "cell_type": "markdown",
   "id": "9442d778",
   "metadata": {},
   "source": [
    "#### Lets take a closer look at how images are stored"
   ]
  },
  {
   "cell_type": "code",
   "execution_count": 4,
   "id": "ae185f4e",
   "metadata": {},
   "outputs": [
    {
     "name": "stdout",
     "output_type": "stream",
     "text": [
      "[[[227 216 212]\n",
      "  [225 214 210]\n",
      "  [226 215 211]\n",
      "  ...\n",
      "  [ 60  58  58]\n",
      "  [ 65  60  61]\n",
      "  [ 35  30  31]]\n",
      "\n",
      " [[227 216 212]\n",
      "  [225 214 210]\n",
      "  [226 215 211]\n",
      "  ...\n",
      "  [ 65  63  63]\n",
      "  [ 67  62  63]\n",
      "  [ 33  28  29]]\n",
      "\n",
      " [[225 214 210]\n",
      "  [224 213 209]\n",
      "  [226 215 211]\n",
      "  ...\n",
      "  [ 66  63  65]\n",
      "  [ 63  58  59]\n",
      "  [ 30  25  26]]\n",
      "\n",
      " ...\n",
      "\n",
      " [[ 50  39  72]\n",
      "  [ 57  45  81]\n",
      "  [ 57  43  84]\n",
      "  ...\n",
      "  [229 220 217]\n",
      "  [229 219 219]\n",
      "  [227 217 217]]\n",
      "\n",
      " [[ 45  34  66]\n",
      "  [ 52  41  74]\n",
      "  [ 52  39  77]\n",
      "  ...\n",
      "  [228 219 216]\n",
      "  [229 219 219]\n",
      "  [228 218 218]]\n",
      "\n",
      " [[ 40  30  60]\n",
      "  [ 38  27  59]\n",
      "  [ 36  24  60]\n",
      "  ...\n",
      "  [227 218 215]\n",
      "  [229 219 219]\n",
      "  [229 219 219]]]\n"
     ]
    }
   ],
   "source": [
    "print(img)"
   ]
  },
  {
   "cell_type": "code",
   "execution_count": 5,
   "id": "844b2cbf",
   "metadata": {},
   "outputs": [
    {
     "data": {
      "text/plain": [
       "(1455, 1134, 3)"
      ]
     },
     "execution_count": 5,
     "metadata": {},
     "output_type": "execute_result"
    }
   ],
   "source": [
    "img.shape"
   ]
  },
  {
   "cell_type": "code",
   "execution_count": 6,
   "id": "deb8d98b",
   "metadata": {},
   "outputs": [
    {
     "data": {
      "text/plain": [
       "1455"
      ]
     },
     "execution_count": 6,
     "metadata": {},
     "output_type": "execute_result"
    }
   ],
   "source": [
    "img.shape[0] #height"
   ]
  },
  {
   "cell_type": "code",
   "execution_count": 7,
   "id": "0d9dc445",
   "metadata": {},
   "outputs": [
    {
     "data": {
      "text/plain": [
       "1134"
      ]
     },
     "execution_count": 7,
     "metadata": {},
     "output_type": "execute_result"
    }
   ],
   "source": [
    "img.shape[1] #Width"
   ]
  },
  {
   "cell_type": "markdown",
   "id": "898656ff",
   "metadata": {},
   "source": [
    "## display the Image"
   ]
  },
  {
   "cell_type": "code",
   "execution_count": 9,
   "id": "be50f50f",
   "metadata": {},
   "outputs": [],
   "source": [
    "cv2.imshow('Shalem_Bheemadolu',img)\n",
    "cv2.waitKey()\n",
    "cv2.destroyAllWindows()"
   ]
  },
  {
   "cell_type": "code",
   "execution_count": 12,
   "id": "433ed997",
   "metadata": {},
   "outputs": [],
   "source": [
    "img=cv2.imread(\"F:/Naresh IT/DataScience Naresh I Technologies/DataScience/5. Artificial Intelligence or Deep Learning/Computer Vision/ImageforopenCV/shalem.jpg\",0)\n",
    "cv2.imshow('shalem_B/W',img)\n",
    "cv2.waitKey()\n",
    "cv2.destroyAllWindows()"
   ]
  },
  {
   "cell_type": "code",
   "execution_count": null,
   "id": "791865cc",
   "metadata": {},
   "outputs": [],
   "source": [
    "img=cv2.imread(\"F:/Naresh IT/DataScience Naresh I Technologies/DataScience/5. Artificial Intelligence or Deep Learning/Computer Vision/ImageforopenCV/shalem.jpg\",1)\n",
    "cv2.imshow('shalem',img)\n",
    "cv2.waitKey()\n",
    "cv2.destroyAllWindows()"
   ]
  },
  {
   "cell_type": "markdown",
   "id": "413ce285",
   "metadata": {},
   "source": [
    "## Save Image"
   ]
  },
  {
   "cell_type": "code",
   "execution_count": 13,
   "id": "816861d3",
   "metadata": {},
   "outputs": [
    {
     "data": {
      "text/plain": [
       "True"
      ]
     },
     "execution_count": 13,
     "metadata": {},
     "output_type": "execute_result"
    }
   ],
   "source": [
    "img=cv2.imread(\"F:/Naresh IT/DataScience Naresh I Technologies/DataScience/5. Artificial Intelligence or Deep Learning/Computer Vision/ImageforopenCV/shalem.jpg\",0)\n",
    "cv2.imshow('shalem',img)\n",
    "cv2.waitKey()\n",
    "cv2.destroyAllWindows()\n",
    "cv2.imwrite('shalem_b_w.jpg',img)"
   ]
  },
  {
   "cell_type": "markdown",
   "id": "c509a4a6",
   "metadata": {},
   "source": [
    "## Resize Image"
   ]
  },
  {
   "cell_type": "code",
   "execution_count": 14,
   "id": "9026fb03",
   "metadata": {},
   "outputs": [
    {
     "data": {
      "text/plain": [
       "727.5"
      ]
     },
     "execution_count": 14,
     "metadata": {},
     "output_type": "execute_result"
    }
   ],
   "source": [
    "img.shape[0]*0.5"
   ]
  },
  {
   "cell_type": "code",
   "execution_count": 15,
   "id": "15a7c316",
   "metadata": {},
   "outputs": [
    {
     "data": {
      "text/plain": [
       "567.0"
      ]
     },
     "execution_count": 15,
     "metadata": {},
     "output_type": "execute_result"
    }
   ],
   "source": [
    "img.shape[1]*0.5"
   ]
  },
  {
   "cell_type": "code",
   "execution_count": 16,
   "id": "b66dcc45",
   "metadata": {},
   "outputs": [],
   "source": [
    "img=cv2.imread(\"F:/Naresh IT/DataScience Naresh I Technologies/DataScience/5. Artificial Intelligence or Deep Learning/Computer Vision/ImageforopenCV/shalem.jpg\")\n",
    "resized_image=cv2.resize(img,(727,567))\n",
    "cv2.imshow('shalem',resized_image)\n",
    "cv2.waitKey()\n",
    "cv2.destroyAllWindows()"
   ]
  },
  {
   "cell_type": "markdown",
   "id": "02914534",
   "metadata": {},
   "source": [
    "### Face detection using HAAR Cascade Classifiers"
   ]
  },
  {
   "cell_type": "code",
   "execution_count": 18,
   "id": "ce40d3a3",
   "metadata": {},
   "outputs": [],
   "source": [
    "face_classifier=cv2.CascadeClassifier('F:/Naresh IT/DataScience Naresh I Technologies/DataScience/5. Artificial Intelligence or Deep Learning/Computer Vision/Haarcascades/haarcascade_frontalface_default.xml')\n",
    "\n",
    "# Load the image and convert it into grayscale\n",
    "\n",
    "image=cv2.imread('F:/Naresh IT/DataScience Naresh I Technologies/DataScience/5. Artificial Intelligence or Deep Learning/Computer Vision/ImageforopenCV/shalem.jpg')\n",
    "image=cv2.resize(image,(500,500))\n",
    "gray=cv2.cvtColor(image,cv2.COLOR_BGR2GRAY)\n",
    "\n",
    "faces=face_classifier.detectMultiScale(gray,1.05,5)"
   ]
  },
  {
   "cell_type": "code",
   "execution_count": 19,
   "id": "af1d95d0",
   "metadata": {},
   "outputs": [
    {
     "name": "stdout",
     "output_type": "stream",
     "text": [
      "[[143  70 212 212]]\n"
     ]
    }
   ],
   "source": [
    "print(faces)"
   ]
  },
  {
   "cell_type": "code",
   "execution_count": 26,
   "id": "9784c54e",
   "metadata": {},
   "outputs": [
    {
     "name": "stderr",
     "output_type": "stream",
     "text": [
      "<>:11: SyntaxWarning: \"is\" with a literal. Did you mean \"==\"?\n",
      "<>:11: SyntaxWarning: \"is\" with a literal. Did you mean \"==\"?\n",
      "<ipython-input-26-4e335d02e003>:11: SyntaxWarning: \"is\" with a literal. Did you mean \"==\"?\n",
      "  if faces is ():\n"
     ]
    }
   ],
   "source": [
    "face_classifier=cv2.CascadeClassifier('F:/Naresh IT/DataScience Naresh I Technologies/DataScience/5. Artificial Intelligence or Deep Learning/Computer Vision/Haarcascades/haarcascade_frontalface_default.xml')\n",
    "\n",
    "# Load the image and convert it into grayscale\n",
    "\n",
    "image=cv2.imread('F:/Naresh IT/DataScience Naresh I Technologies/DataScience/5. Artificial Intelligence or Deep Learning/Computer Vision/ImageforopenCV/shalem.jpg')\n",
    "resize_image=cv2.resize(image,(500,500))\n",
    "gray=cv2.cvtColor(resize_image,cv2.COLOR_BGR2GRAY)\n",
    "\n",
    "faces=face_classifier.detectMultiScale(gray,1.05,5)\n",
    "\n",
    "if faces is ():\n",
    "    print('No faces found')\n",
    "    \n",
    "for (x,y,w,h) in faces:\n",
    "    cv2.rectangle(resize_image,(x,y),(x+w,y+h),(100,255,100),1)  #(B,G,R)\n",
    "\n",
    "    cv2.imshow('Face detection',resize_image)\n",
    "    cv2.waitKey()\n",
    "    cv2.destroyAllWindows()"
   ]
  },
  {
   "cell_type": "markdown",
   "id": "6f863465",
   "metadata": {},
   "source": [
    "### Face and eye detection using HAAR Cascade Classifiers in Image"
   ]
  },
  {
   "cell_type": "code",
   "execution_count": 30,
   "id": "1bb8d8c0",
   "metadata": {},
   "outputs": [
    {
     "name": "stderr",
     "output_type": "stream",
     "text": [
      "<>:12: SyntaxWarning: \"is\" with a literal. Did you mean \"==\"?\n",
      "<>:12: SyntaxWarning: \"is\" with a literal. Did you mean \"==\"?\n",
      "<ipython-input-30-16c59458b6bf>:12: SyntaxWarning: \"is\" with a literal. Did you mean \"==\"?\n",
      "  if faces is ():\n"
     ]
    }
   ],
   "source": [
    "face_classifier=cv2.CascadeClassifier('F:/Naresh IT/DataScience Naresh I Technologies/DataScience/5. Artificial Intelligence or Deep Learning/Computer Vision/Haarcascades/haarcascade_frontalface_default.xml')\n",
    "eye_classifier=cv2.CascadeClassifier('F:/Naresh IT/DataScience Naresh I Technologies/DataScience/5. Artificial Intelligence or Deep Learning/Computer Vision/Haarcascades/haarcascade_eye.xml')\n",
    "\n",
    "# Load the image and convert it into grayscale\n",
    "\n",
    "image=cv2.imread('F:/Naresh IT/DataScience Naresh I Technologies/DataScience/5. Artificial Intelligence or Deep Learning/Computer Vision/ImageforopenCV/shalem.jpg')\n",
    "resize_image=cv2.resize(image,(500,500))\n",
    "gray=cv2.cvtColor(resize_image,cv2.COLOR_BGR2GRAY)\n",
    "\n",
    "faces=face_classifier.detectMultiScale(gray,1.3,5)\n",
    "\n",
    "if faces is ():\n",
    "    print('No faces found')\n",
    "    \n",
    "for (x,y,w,h) in faces:\n",
    "    cv2.rectangle(resize_image,(x,y),(x+w,y+h),(0,255,0),2)  #(B,G,R)\n",
    "    roi_gray=gray[y:y+h,x:x+w]\n",
    "    roi_color=resize_image[y:y+h,x:x+w]\n",
    "    eyes=eye_classifier.detectMultiScale(roi_gray)\n",
    "    for (ex,ey,ew,eh) in eyes:\n",
    "        cv2.rectangle(roi_color,(ex,ey),(ex+ew,ey+eh),(255,0,255),2)\n",
    "        \n",
    "        \n",
    "\n",
    "    cv2.imshow('Shalem_Bheemadolu',resize_image)\n",
    "    cv2.waitKey()\n",
    "    cv2.destroyAllWindows()"
   ]
  },
  {
   "cell_type": "markdown",
   "id": "a2c51207",
   "metadata": {},
   "source": [
    "### Capture a Video"
   ]
  },
  {
   "cell_type": "code",
   "execution_count": 31,
   "id": "e2199f95",
   "metadata": {},
   "outputs": [],
   "source": [
    "# doing some face recognition from webcam\n",
    "import cv2\n",
    "video=cv2.VideoCapture(0) # 0 is for webcam\n",
    "\n",
    "while True:\n",
    "    check,frame=video.read()\n",
    "    gray=cv2.cvtColor(frame,cv2.COLOR_BGR2GRAY)\n",
    "    cv2.imshow('Video',gray)\n",
    "    if cv2.waitKey(1)==ord('r'):\n",
    "        break\n",
    "\n",
    "video.release()\n",
    "cv2.destroyAllWindows()"
   ]
  },
  {
   "cell_type": "markdown",
   "id": "5566b50e",
   "metadata": {},
   "source": [
    "### Face and eye detection using HAAR Cascade Classifiers in Video"
   ]
  },
  {
   "cell_type": "code",
   "execution_count": 33,
   "id": "7c980714",
   "metadata": {},
   "outputs": [],
   "source": [
    "face_cascade=cv2.CascadeClassifier('F:/Naresh IT/DataScience Naresh I Technologies/DataScience/5. Artificial Intelligence or Deep Learning/Computer Vision/Haarcascades/haarcascade_frontalface_default.xml')\n",
    "eye_cascade=cv2.CascadeClassifier('F:/Naresh IT/DataScience Naresh I Technologies/DataScience/5. Artificial Intelligence or Deep Learning/Computer Vision/Haarcascades/haarcascade_eye.xml')\n",
    "\n",
    "# Load the image and convert it into grayscale\n",
    "\n",
    "def detect(gray,frame):\n",
    "    faces=face_cascade.detectMultiScale(gray,1.3,5)\n",
    "    for (x,y,w,h) in faces:\n",
    "        cv2.rectangle(frame,(x,y),(x+w,y+h),(0,255,0),2)  #(B,G,R)\n",
    "        roi_gray=gray[y:y+h,x:x+w]\n",
    "        roi_color=frame[y:y+h,x:x+w]\n",
    "        eyes=eye_cascade.detectMultiScale(roi_gray,1.1,3)\n",
    "        for (ex,ey,ew,eh) in eyes:\n",
    "            cv2.rectangle(roi_color,(ex,ey),(ex+ew,ey+eh),(0,0,255),2)\n",
    "    return frame\n",
    "\n",
    "# doing some face recognition from webcam\n",
    "\n",
    "video=cv2.VideoCapture(0) # 0 is for webcam\n",
    "\n",
    "while True:\n",
    "    check,frame=video.read()\n",
    "    gray=cv2.cvtColor(frame,cv2.COLOR_BGR2GRAY)\n",
    "    canvas=detect(gray,frame)\n",
    "    cv2.imshow('Video',canvas)\n",
    "    if cv2.waitKey(1)==ord('q'):\n",
    "        break\n",
    "\n",
    "video.release()\n",
    "cv2.destroyAllWindows()\n"
   ]
  },
  {
   "cell_type": "markdown",
   "id": "a6a097a1",
   "metadata": {},
   "source": [
    "### Pedistrians detection"
   ]
  },
  {
   "cell_type": "code",
   "execution_count": 37,
   "id": "b429f22f",
   "metadata": {},
   "outputs": [],
   "source": [
    "body_classifier=cv2.CascadeClassifier('F:/Naresh IT/DataScience Naresh I Technologies/DataScience/5. Artificial Intelligence or Deep Learning/Computer Vision/Haarcascades/haarcascade_fullbody.xml')\n",
    "\n",
    "# Initiate video capture for video file\n",
    "\n",
    "cap=cv2.VideoCapture('F:/Naresh IT/DataScience Naresh I Technologies/DataScience/5. Artificial Intelligence or Deep Learning/Computer Vision/ImageforopenCV/walking.avi')\n",
    "\n",
    "# Loop once video is successfully loaded\n",
    "\n",
    "while cap.isOpened():\n",
    "    # Read first frame\n",
    "    check,frame=cap.read()\n",
    "    gray=cv2.cvtColor(frame,cv2.COLOR_BGR2GRAY)\n",
    "    # Pass frame to our body classifier\n",
    "    bodies=body_classifier.detectMultiScale(gray,1.2,3)\n",
    "    \n",
    "    # Extract bouning boxes for any bodies identified\n",
    "\n",
    "    for (x,y,w,h) in bodies:\n",
    "        cv2.rectangle(frame,(x,y),(x+w,y+h),(0,255,0),2) \n",
    "        cv2.imshow('Pedistrians',frame)\n",
    "        \n",
    "    if cv2.waitKey(1)==ord('q'):\n",
    "        break\n",
    "        \n",
    "video.release()\n",
    "cv2.destroyAllWindows()"
   ]
  },
  {
   "cell_type": "markdown",
   "id": "1b7bf2b9",
   "metadata": {},
   "source": [
    "### Cars detection"
   ]
  },
  {
   "cell_type": "code",
   "execution_count": 42,
   "id": "76662e45",
   "metadata": {},
   "outputs": [],
   "source": [
    "import time\n",
    "\n",
    "car_classifier=cv2.CascadeClassifier('F:/Naresh IT/DataScience Naresh I Technologies/DataScience/5. Artificial Intelligence or Deep Learning/Computer Vision/Haarcascades/haarcascade_car.xml')\n",
    "\n",
    "# Initiate video capture for video file\n",
    "\n",
    "cap=cv2.VideoCapture('F:/Naresh IT/DataScience Naresh I Technologies/DataScience/5. Artificial Intelligence or Deep Learning/Computer Vision/ImageforopenCV/cars.avi')\n",
    "\n",
    "# Loop once video is successfully loaded\n",
    "\n",
    "while cap.isOpened():\n",
    "    time.sleep(0.05)\n",
    "    # Read first frame\n",
    "    check,frame=cap.read()\n",
    "    gray=cv2.cvtColor(frame,cv2.COLOR_BGR2GRAY)\n",
    "    # Pass frame to our body classifier\n",
    "    cars=car_classifier.detectMultiScale(gray,1.5,2)\n",
    "    \n",
    "    # Extract bouning boxes for any bodies identified\n",
    "\n",
    "    for (x,y,w,h) in cars:\n",
    "        cv2.rectangle(frame,(x,y),(x+w,y+h),(0,0,255),1) \n",
    "        cv2.imshow('cars',frame)\n",
    "        \n",
    "    if cv2.waitKey(1)==ord('q'):\n",
    "        break\n",
    "        \n",
    "video.release()\n",
    "cv2.destroyAllWindows()"
   ]
  },
  {
   "cell_type": "code",
   "execution_count": 43,
   "id": "ccb3fe96",
   "metadata": {},
   "outputs": [],
   "source": [
    "body_classifier=cv2.CascadeClassifier('F:/Naresh IT/DataScience Naresh I Technologies/DataScience/5. Artificial Intelligence or Deep Learning/Computer Vision/Haarcascades/haarcascade_fullbody.xml')\n",
    "\n",
    "# Initiate video capture for video file\n",
    "\n",
    "cap=cv2.VideoCapture('F:/Naresh IT/DataScience Naresh I Technologies/DataScience/5. Artificial Intelligence or Deep Learning/Computer Vision/ImageforopenCV/surfing.avi')\n",
    "\n",
    "# Loop once video is successfully loaded\n",
    "\n",
    "while cap.isOpened():\n",
    "    # Read first frame\n",
    "    check,frame=cap.read()\n",
    "    gray=cv2.cvtColor(frame,cv2.COLOR_BGR2GRAY)\n",
    "    # Pass frame to our body classifier\n",
    "    bodies=body_classifier.detectMultiScale(gray,1.2,3)\n",
    "    \n",
    "    # Extract bouning boxes for any bodies identified\n",
    "\n",
    "    for (x,y,w,h) in bodies:\n",
    "        cv2.rectangle(frame,(x,y),(x+w,y+h),(0,255,0),1) \n",
    "        cv2.imshow('surfing',frame)\n",
    "        \n",
    "    if cv2.waitKey(1)==ord('q'):\n",
    "        break\n",
    "        \n",
    "video.release()\n",
    "cv2.destroyAllWindows()"
   ]
  },
  {
   "cell_type": "code",
   "execution_count": null,
   "id": "2e714158",
   "metadata": {},
   "outputs": [],
   "source": []
  }
 ],
 "metadata": {
  "kernelspec": {
   "display_name": "Python 3",
   "language": "python",
   "name": "python3"
  },
  "language_info": {
   "codemirror_mode": {
    "name": "ipython",
    "version": 3
   },
   "file_extension": ".py",
   "mimetype": "text/x-python",
   "name": "python",
   "nbconvert_exporter": "python",
   "pygments_lexer": "ipython3",
   "version": "3.8.8"
  }
 },
 "nbformat": 4,
 "nbformat_minor": 5
}
